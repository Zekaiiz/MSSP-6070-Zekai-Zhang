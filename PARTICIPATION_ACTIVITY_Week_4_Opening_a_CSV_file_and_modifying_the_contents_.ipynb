{
  "nbformat": 4,
  "nbformat_minor": 0,
  "metadata": {
    "colab": {
      "provenance": [],
      "authorship_tag": "ABX9TyPOdQj0fZDo6c0kU0qDKbcR",
      "include_colab_link": true
    },
    "kernelspec": {
      "name": "python3",
      "display_name": "Python 3"
    },
    "language_info": {
      "name": "python"
    }
  },
  "cells": [
    {
      "cell_type": "markdown",
      "metadata": {
        "id": "view-in-github",
        "colab_type": "text"
      },
      "source": [
        "<a href=\"https://colab.research.google.com/github/Zekaiiz/MSSP-6070-Zekai-Zhang/blob/main/PARTICIPATION_ACTIVITY_Week_4_Opening_a_CSV_file_and_modifying_the_contents_.ipynb\" target=\"_parent\"><img src=\"https://colab.research.google.com/assets/colab-badge.svg\" alt=\"Open In Colab\"/></a>"
      ]
    },
    {
      "cell_type": "code",
      "execution_count": 2,
      "metadata": {
        "colab": {
          "base_uri": "https://localhost:8080/",
          "height": 166
        },
        "id": "mhDziogXejub",
        "outputId": "d97c29a0-944f-49ae-90c5-ca3541551368"
      },
      "outputs": [
        {
          "output_type": "display_data",
          "data": {
            "text/plain": [
              "<IPython.core.display.HTML object>"
            ],
            "text/html": [
              "\n",
              "     <input type=\"file\" id=\"files-7f4d6a1e-92dd-4017-88db-27fb93ccc7de\" name=\"files[]\" multiple disabled\n",
              "        style=\"border:none\" />\n",
              "     <output id=\"result-7f4d6a1e-92dd-4017-88db-27fb93ccc7de\">\n",
              "      Upload widget is only available when the cell has been executed in the\n",
              "      current browser session. Please rerun this cell to enable.\n",
              "      </output>\n",
              "      <script>// Copyright 2017 Google LLC\n",
              "//\n",
              "// Licensed under the Apache License, Version 2.0 (the \"License\");\n",
              "// you may not use this file except in compliance with the License.\n",
              "// You may obtain a copy of the License at\n",
              "//\n",
              "//      http://www.apache.org/licenses/LICENSE-2.0\n",
              "//\n",
              "// Unless required by applicable law or agreed to in writing, software\n",
              "// distributed under the License is distributed on an \"AS IS\" BASIS,\n",
              "// WITHOUT WARRANTIES OR CONDITIONS OF ANY KIND, either express or implied.\n",
              "// See the License for the specific language governing permissions and\n",
              "// limitations under the License.\n",
              "\n",
              "/**\n",
              " * @fileoverview Helpers for google.colab Python module.\n",
              " */\n",
              "(function(scope) {\n",
              "function span(text, styleAttributes = {}) {\n",
              "  const element = document.createElement('span');\n",
              "  element.textContent = text;\n",
              "  for (const key of Object.keys(styleAttributes)) {\n",
              "    element.style[key] = styleAttributes[key];\n",
              "  }\n",
              "  return element;\n",
              "}\n",
              "\n",
              "// Max number of bytes which will be uploaded at a time.\n",
              "const MAX_PAYLOAD_SIZE = 100 * 1024;\n",
              "\n",
              "function _uploadFiles(inputId, outputId) {\n",
              "  const steps = uploadFilesStep(inputId, outputId);\n",
              "  const outputElement = document.getElementById(outputId);\n",
              "  // Cache steps on the outputElement to make it available for the next call\n",
              "  // to uploadFilesContinue from Python.\n",
              "  outputElement.steps = steps;\n",
              "\n",
              "  return _uploadFilesContinue(outputId);\n",
              "}\n",
              "\n",
              "// This is roughly an async generator (not supported in the browser yet),\n",
              "// where there are multiple asynchronous steps and the Python side is going\n",
              "// to poll for completion of each step.\n",
              "// This uses a Promise to block the python side on completion of each step,\n",
              "// then passes the result of the previous step as the input to the next step.\n",
              "function _uploadFilesContinue(outputId) {\n",
              "  const outputElement = document.getElementById(outputId);\n",
              "  const steps = outputElement.steps;\n",
              "\n",
              "  const next = steps.next(outputElement.lastPromiseValue);\n",
              "  return Promise.resolve(next.value.promise).then((value) => {\n",
              "    // Cache the last promise value to make it available to the next\n",
              "    // step of the generator.\n",
              "    outputElement.lastPromiseValue = value;\n",
              "    return next.value.response;\n",
              "  });\n",
              "}\n",
              "\n",
              "/**\n",
              " * Generator function which is called between each async step of the upload\n",
              " * process.\n",
              " * @param {string} inputId Element ID of the input file picker element.\n",
              " * @param {string} outputId Element ID of the output display.\n",
              " * @return {!Iterable<!Object>} Iterable of next steps.\n",
              " */\n",
              "function* uploadFilesStep(inputId, outputId) {\n",
              "  const inputElement = document.getElementById(inputId);\n",
              "  inputElement.disabled = false;\n",
              "\n",
              "  const outputElement = document.getElementById(outputId);\n",
              "  outputElement.innerHTML = '';\n",
              "\n",
              "  const pickedPromise = new Promise((resolve) => {\n",
              "    inputElement.addEventListener('change', (e) => {\n",
              "      resolve(e.target.files);\n",
              "    });\n",
              "  });\n",
              "\n",
              "  const cancel = document.createElement('button');\n",
              "  inputElement.parentElement.appendChild(cancel);\n",
              "  cancel.textContent = 'Cancel upload';\n",
              "  const cancelPromise = new Promise((resolve) => {\n",
              "    cancel.onclick = () => {\n",
              "      resolve(null);\n",
              "    };\n",
              "  });\n",
              "\n",
              "  // Wait for the user to pick the files.\n",
              "  const files = yield {\n",
              "    promise: Promise.race([pickedPromise, cancelPromise]),\n",
              "    response: {\n",
              "      action: 'starting',\n",
              "    }\n",
              "  };\n",
              "\n",
              "  cancel.remove();\n",
              "\n",
              "  // Disable the input element since further picks are not allowed.\n",
              "  inputElement.disabled = true;\n",
              "\n",
              "  if (!files) {\n",
              "    return {\n",
              "      response: {\n",
              "        action: 'complete',\n",
              "      }\n",
              "    };\n",
              "  }\n",
              "\n",
              "  for (const file of files) {\n",
              "    const li = document.createElement('li');\n",
              "    li.append(span(file.name, {fontWeight: 'bold'}));\n",
              "    li.append(span(\n",
              "        `(${file.type || 'n/a'}) - ${file.size} bytes, ` +\n",
              "        `last modified: ${\n",
              "            file.lastModifiedDate ? file.lastModifiedDate.toLocaleDateString() :\n",
              "                                    'n/a'} - `));\n",
              "    const percent = span('0% done');\n",
              "    li.appendChild(percent);\n",
              "\n",
              "    outputElement.appendChild(li);\n",
              "\n",
              "    const fileDataPromise = new Promise((resolve) => {\n",
              "      const reader = new FileReader();\n",
              "      reader.onload = (e) => {\n",
              "        resolve(e.target.result);\n",
              "      };\n",
              "      reader.readAsArrayBuffer(file);\n",
              "    });\n",
              "    // Wait for the data to be ready.\n",
              "    let fileData = yield {\n",
              "      promise: fileDataPromise,\n",
              "      response: {\n",
              "        action: 'continue',\n",
              "      }\n",
              "    };\n",
              "\n",
              "    // Use a chunked sending to avoid message size limits. See b/62115660.\n",
              "    let position = 0;\n",
              "    do {\n",
              "      const length = Math.min(fileData.byteLength - position, MAX_PAYLOAD_SIZE);\n",
              "      const chunk = new Uint8Array(fileData, position, length);\n",
              "      position += length;\n",
              "\n",
              "      const base64 = btoa(String.fromCharCode.apply(null, chunk));\n",
              "      yield {\n",
              "        response: {\n",
              "          action: 'append',\n",
              "          file: file.name,\n",
              "          data: base64,\n",
              "        },\n",
              "      };\n",
              "\n",
              "      let percentDone = fileData.byteLength === 0 ?\n",
              "          100 :\n",
              "          Math.round((position / fileData.byteLength) * 100);\n",
              "      percent.textContent = `${percentDone}% done`;\n",
              "\n",
              "    } while (position < fileData.byteLength);\n",
              "  }\n",
              "\n",
              "  // All done.\n",
              "  yield {\n",
              "    response: {\n",
              "      action: 'complete',\n",
              "    }\n",
              "  };\n",
              "}\n",
              "\n",
              "scope.google = scope.google || {};\n",
              "scope.google.colab = scope.google.colab || {};\n",
              "scope.google.colab._files = {\n",
              "  _uploadFiles,\n",
              "  _uploadFilesContinue,\n",
              "};\n",
              "})(self);\n",
              "</script> "
            ]
          },
          "metadata": {}
        },
        {
          "output_type": "stream",
          "name": "stdout",
          "text": [
            "Saving parsed.csv to parsed.csv\n",
            "Index(['alert', 'cdi', 'code', 'detail', 'dmin', 'felt', 'gap', 'ids', 'mag',\n",
            "       'magType', 'mmi', 'net', 'nst', 'place', 'rms', 'sig', 'sources',\n",
            "       'status', 'time', 'title', 'tsunami', 'type', 'types', 'tz', 'updated',\n",
            "       'url', 'parsed_place'],\n",
            "      dtype='object')\n"
          ]
        }
      ],
      "source": [
        "import pandas as pd\n",
        "from google.colab import files\n",
        "uploaded = files.upload()\n",
        "df = pd.read_csv(\"parsed.csv\")\n",
        "print(df.columns)\n"
      ]
    },
    {
      "cell_type": "markdown",
      "source": [
        "a. Find the 95th percentile of earthquake magnitude in Japan using magType of 'mb'"
      ],
      "metadata": {
        "id": "xflHujnqKEu1"
      }
    },
    {
      "cell_type": "code",
      "source": [
        "df_japan_mb = df[(df['magType'] == 'mb') & (df['place'].str.contains('Japan'))]\n",
        "percentile_95 = df_japan_mb['mag'].quantile(0.95)\n",
        "print(percentile_95)"
      ],
      "metadata": {
        "colab": {
          "base_uri": "https://localhost:8080/"
        },
        "id": "ESPPtkBTJPoV",
        "outputId": "cb2b773f-7ef2-4e06-eb2f-b2939903ed35"
      },
      "execution_count": 11,
      "outputs": [
        {
          "output_type": "stream",
          "name": "stdout",
          "text": [
            "4.9\n"
          ]
        }
      ]
    },
    {
      "cell_type": "markdown",
      "source": [
        "b. Find the percentage of earthquakes in Indonesia that were coupled with tsunamis."
      ],
      "metadata": {
        "id": "RJUMlYQcKO7z"
      }
    },
    {
      "cell_type": "code",
      "source": [
        "df_indonesia = df[df['place'].str.contains('Indonesia')]\n",
        "total_earthquakes = len(df_indonesia)\n",
        "with_tsunamis = len(df_indonesia[df_indonesia['tsunami'] > 0])\n",
        "percentage_with_tsunamis = (with_tsunamis / total_earthquakes) * 100\n",
        "print(percentage_with_tsunamis, '%' )"
      ],
      "metadata": {
        "colab": {
          "base_uri": "https://localhost:8080/"
        },
        "id": "podydnIPKMCV",
        "outputId": "0edd3d95-9c19-46f6-ccea-bc5375ef073b"
      },
      "execution_count": 18,
      "outputs": [
        {
          "output_type": "stream",
          "name": "stdout",
          "text": [
            "23.12925170068027 %\n"
          ]
        }
      ]
    },
    {
      "cell_type": "markdown",
      "source": [
        "c. Get summary statistics for earthquakes in Nevada"
      ],
      "metadata": {
        "id": "_r0cHZpSMwlL"
      }
    },
    {
      "cell_type": "code",
      "source": [
        "df_Neveda = df [df['place'].str.contains('Nevada')]\n",
        "print(df_Neveda.describe())"
      ],
      "metadata": {
        "colab": {
          "base_uri": "https://localhost:8080/"
        },
        "id": "arTDH15jMyds",
        "outputId": "bba2ccce-addc-4a84-dc1d-5e8b6d3a3817"
      },
      "execution_count": 21,
      "outputs": [
        {
          "output_type": "stream",
          "name": "stdout",
          "text": [
            "             cdi        dmin       felt         gap         mag   mmi  \\\n",
            "count  15.000000  677.000000  15.000000  677.000000  677.000000  1.00   \n",
            "mean    2.440000    0.166982   2.400000  154.029527    0.491728  2.84   \n",
            "std     0.501142    0.166400   4.626013   68.769713    0.689560   NaN   \n",
            "min     2.000000    0.001000   1.000000   29.140000   -0.500000  2.84   \n",
            "25%     2.000000    0.054000   1.000000   97.670000   -0.100000  2.84   \n",
            "50%     2.200000    0.113000   1.000000  149.550000    0.400000  2.84   \n",
            "75%     2.900000    0.234000   1.000000  200.470000    0.900000  2.84   \n",
            "max     3.300000    1.414000  19.000000  355.910000    2.900000  2.84   \n",
            "\n",
            "              nst         rms         sig          time  tsunami     tz  \\\n",
            "count  677.000000  677.000000  677.000000  6.770000e+02    677.0  677.0   \n",
            "mean    12.608567    0.151909   10.688331  1.538314e+12      0.0 -480.0   \n",
            "std      9.890620    0.084742   19.252727  5.954070e+08      0.0    0.0   \n",
            "min      3.000000    0.000500    0.000000  1.537247e+12      0.0 -480.0   \n",
            "25%      6.000000    0.106900    0.000000  1.537854e+12      0.0 -480.0   \n",
            "50%      9.000000    0.146300    2.000000  1.538280e+12      0.0 -480.0   \n",
            "75%     16.000000    0.186700   12.000000  1.538821e+12      0.0 -480.0   \n",
            "max     61.000000    0.863400  129.000000  1.539461e+12      0.0 -480.0   \n",
            "\n",
            "            updated  \n",
            "count  6.770000e+02  \n",
            "mean   1.538402e+12  \n",
            "std    6.000267e+08  \n",
            "min    1.537307e+12  \n",
            "25%    1.537928e+12  \n",
            "50%    1.538428e+12  \n",
            "75%    1.538878e+12  \n",
            "max    1.539483e+12  \n"
          ]
        }
      ]
    },
    {
      "cell_type": "markdown",
      "source": [
        "d.  Add a column to the dataframe indicating whether or not the earthquake happened in a country or US state that is on the Ring of Fire. Use Bolivia, Chile, Ecuador, Peru, Costa Rica, Guatemala, Mexico (be sure not to select New Mexico), Japan, Philippines, Indonesia, New Zealand, Antarctica (look for the Antarctic), Canada, Fiji, Alaska, Washington, California, Russia, Taiwan, Tonga, and the Kermadec Islands).\n",
        "\n"
      ],
      "metadata": {
        "id": "oT_fC64xRTOY"
      }
    },
    {
      "cell_type": "code",
      "source": [
        "places = ['Bolivia', 'Chile', 'Ecuador', 'Peru', 'Costa Rica', 'Guatemala', 'Mexico', 'Japan', 'Philippines', 'Indonesia', 'New Zealand', 'Antarctic', 'Canada', 'Fiji', 'Alaska', 'Washington', 'California', 'Russia', 'Taiwan', 'Tonga', 'Kermadec Islands']\n",
        "def ring_of_fire(place):\n",
        "    if \"New Mexico\" in place:\n",
        "        return False\n",
        "    for country in places:\n",
        "            if country in place:\n",
        "                return True\n",
        "    return False\n",
        "df['ring_of_fire'] = df['place'].apply(ring_of_fire)\n",
        "print (df['ring_of_fire'].value_counts())"
      ],
      "metadata": {
        "colab": {
          "base_uri": "https://localhost:8080/"
        },
        "id": "n07AyspORXlD",
        "outputId": "f1533199-0c75-46b8-bdda-c113c53f1bdc"
      },
      "execution_count": 4,
      "outputs": [
        {
          "output_type": "stream",
          "name": "stdout",
          "text": [
            "ring_of_fire\n",
            "False    4906\n",
            "True     4426\n",
            "Name: count, dtype: int64\n"
          ]
        }
      ]
    },
    {
      "cell_type": "markdown",
      "source": [
        "e.Calculate the number of earthquakes in the Ring of Fire locations and the number outside of them,"
      ],
      "metadata": {
        "id": "T6siYPFGWFbn"
      }
    },
    {
      "cell_type": "code",
      "source": [
        "df['ring_of_fire'] = df['place'].apply(ring_of_fire)\n",
        "print (df['ring_of_fire'].value_counts())"
      ],
      "metadata": {
        "colab": {
          "base_uri": "https://localhost:8080/"
        },
        "id": "dmIM4AyAWki6",
        "outputId": "d6a56391-e089-4589-a8d5-bc36fb89f9fa"
      },
      "execution_count": 5,
      "outputs": [
        {
          "output_type": "stream",
          "name": "stdout",
          "text": [
            "ring_of_fire\n",
            "False    4906\n",
            "True     4426\n",
            "Name: count, dtype: int64\n"
          ]
        }
      ]
    },
    {
      "cell_type": "markdown",
      "source": [
        "f. Find the tsunami count along the Ring of Fire."
      ],
      "metadata": {
        "id": "Tek6EX4ytAUB"
      }
    },
    {
      "cell_type": "code",
      "source": [
        "(df['ring_of_fire'] & (df['tsunami']) == 1). sum()"
      ],
      "metadata": {
        "colab": {
          "base_uri": "https://localhost:8080/"
        },
        "id": "BH7XC6sNtC_9",
        "outputId": "52e5df56-7bc7-40e3-d3d0-60a530a1da94"
      },
      "execution_count": 8,
      "outputs": [
        {
          "output_type": "execute_result",
          "data": {
            "text/plain": [
              "np.int64(43)"
            ]
          },
          "metadata": {},
          "execution_count": 8
        }
      ]
    }
  ]
}