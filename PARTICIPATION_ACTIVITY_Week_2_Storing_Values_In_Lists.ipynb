{
  "nbformat": 4,
  "nbformat_minor": 0,
  "metadata": {
    "colab": {
      "provenance": [],
      "authorship_tag": "ABX9TyOQmO2ZRvrpD3plCgEF2ntG",
      "include_colab_link": true
    },
    "kernelspec": {
      "name": "python3",
      "display_name": "Python 3"
    },
    "language_info": {
      "name": "python"
    }
  },
  "cells": [
    {
      "cell_type": "markdown",
      "metadata": {
        "id": "view-in-github",
        "colab_type": "text"
      },
      "source": [
        "<a href=\"https://colab.research.google.com/github/Zekaiiz/MSSP-6070-Zekai-Zhang/blob/main/PARTICIPATION_ACTIVITY_Week_2_Storing_Values_In_Lists.ipynb\" target=\"_parent\"><img src=\"https://colab.research.google.com/assets/colab-badge.svg\" alt=\"Open In Colab\"/></a>"
      ]
    },
    {
      "cell_type": "code",
      "execution_count": 13,
      "metadata": {
        "colab": {
          "base_uri": "https://localhost:8080/"
        },
        "id": "f8Ek-4UMKiQI",
        "outputId": "392313aa-538d-4c02-9780-455bf19fb19c"
      },
      "outputs": [
        {
          "output_type": "stream",
          "name": "stdout",
          "text": [
            "[2, 4, 'hello', 8, 10]\n"
          ]
        }
      ],
      "source": [
        "spam = [2, 4, 6, 8, 10 ]\n",
        "spam [2] = \"hello\"\n",
        "print(spam)"
      ]
    },
    {
      "cell_type": "code",
      "source": [
        "letters = ['a',  'b',  'c', 'd']\n",
        "print(letters)\n",
        "result1 = letters[int(int('3'*2)//11)]\n",
        "print (result1)\n",
        "result2 = letters[-1]\n",
        "result3 = letters[:2]"
      ],
      "metadata": {
        "colab": {
          "base_uri": "https://localhost:8080/"
        },
        "id": "N9vSlBRRNcby",
        "outputId": "8a6c6317-e10e-45c5-a85f-e644a2d256b9"
      },
      "execution_count": 14,
      "outputs": [
        {
          "output_type": "stream",
          "name": "stdout",
          "text": [
            "['a', 'b', 'c', 'd']\n",
            "d\n"
          ]
        }
      ]
    },
    {
      "cell_type": "markdown",
      "source": [
        ":2 means selecting the first 2 items to the referred subject, in this case, it refers to letter a and letter b"
      ],
      "metadata": {
        "id": "xk_4RiarQ83Z"
      }
    },
    {
      "cell_type": "markdown",
      "source": [
        "-1 means the last item to the referred subject, which is letter d"
      ],
      "metadata": {
        "id": "rbsF8tQVQZV-"
      }
    },
    {
      "cell_type": "code",
      "source": [
        "sample_list = [10, 20, 30, 40, 50]\n",
        "print(sample_list)\n",
        "tuple_form =tuple(sample_list)\n",
        "print(tuple(sample_list))\n",
        "sample_tuple = [10, 20, 30, 40, 50]\n",
        "list_form = list(sample_tuple)\n",
        "print(list(sample_tuple))"
      ],
      "metadata": {
        "colab": {
          "base_uri": "https://localhost:8080/"
        },
        "id": "Z8PCHLvLQYky",
        "outputId": "875d9edf-3259-41a1-f14d-adb6310216ca"
      },
      "execution_count": 37,
      "outputs": [
        {
          "output_type": "stream",
          "name": "stdout",
          "text": [
            "[10, 20, 30, 40, 50]\n",
            "(10, 20, 30, 40, 50)\n",
            "[10, 20, 30, 40, 50]\n"
          ]
        }
      ]
    },
    {
      "cell_type": "code",
      "source": [
        "spam = ['dog', 'cat', 'pet', 'animals']\n",
        "def create_line(any_list):\n",
        "  for x in any_list:\n",
        "    if x == any_list [-2]:\n",
        "      print (x, end=',and ')\n",
        "    elif x == any_list [-1]:\n",
        "      print (x,end= '' )\n",
        "    else:\n",
        "      print (x, end = ' , ' )\n",
        "create_line(spam)\n",
        ""
      ],
      "metadata": {
        "colab": {
          "base_uri": "https://localhost:8080/"
        },
        "id": "zpjYjM2bCW17",
        "outputId": "716e67f4-b719-4e1c-df32-a5dced0cd228"
      },
      "execution_count": 42,
      "outputs": [
        {
          "output_type": "stream",
          "name": "stdout",
          "text": [
            "dog , cat , pet,and animals"
          ]
        }
      ]
    }
  ]
}