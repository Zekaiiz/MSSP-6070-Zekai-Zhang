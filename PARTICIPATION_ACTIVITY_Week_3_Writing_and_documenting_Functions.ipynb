{
  "nbformat": 4,
  "nbformat_minor": 0,
  "metadata": {
    "colab": {
      "provenance": [],
      "authorship_tag": "ABX9TyNP2wLhQStJrhMI2+oWEneb",
      "include_colab_link": true
    },
    "kernelspec": {
      "name": "python3",
      "display_name": "Python 3"
    },
    "language_info": {
      "name": "python"
    }
  },
  "cells": [
    {
      "cell_type": "markdown",
      "metadata": {
        "id": "view-in-github",
        "colab_type": "text"
      },
      "source": [
        "<a href=\"https://colab.research.google.com/github/Zekaiiz/MSSP-6070-Zekai-Zhang/blob/main/PARTICIPATION_ACTIVITY_Week_3_Writing_and_documenting_Functions.ipynb\" target=\"_parent\"><img src=\"https://colab.research.google.com/assets/colab-badge.svg\" alt=\"Open In Colab\"/></a>"
      ]
    },
    {
      "cell_type": "code",
      "execution_count": 1,
      "metadata": {
        "id": "ejPzgUR8JLnX"
      },
      "outputs": [],
      "source": [
        "a. When does the code in a function execute: when the function is defined or called?"
      ]
    },
    {
      "cell_type": "markdown",
      "source": [
        "When the code is only defined but not called, it will not provide any output."
      ],
      "metadata": {
        "id": "ufl_naeDPHx3"
      }
    },
    {
      "cell_type": "code",
      "source": [
        "b. How many global scopes are there in a Python program? How many local scopes?"
      ],
      "metadata": {
        "id": "792WrVvEPVO5"
      },
      "execution_count": null,
      "outputs": []
    },
    {
      "cell_type": "markdown",
      "source": [
        "There will only be one global scope in a Python program, regarding to local scopes, it can be as many local scopes as functions being created."
      ],
      "metadata": {
        "id": "7dWmqt2mVnsk"
      }
    },
    {
      "cell_type": "code",
      "source": [
        "c. What happens to variables in a local scope when the function call returns?"
      ],
      "metadata": {
        "id": "aA_4aJ5OWDBU"
      },
      "execution_count": null,
      "outputs": []
    },
    {
      "cell_type": "markdown",
      "source": [
        "That we will no long be able to access the variable once the function is called."
      ],
      "metadata": {
        "id": "nMUlaEybWGxA"
      }
    },
    {
      "cell_type": "code",
      "source": [
        "d. How can you prevent a program from crashing when it gets an error?"
      ],
      "metadata": {
        "id": "fh3ICrSXXhj-"
      },
      "execution_count": null,
      "outputs": []
    },
    {
      "cell_type": "markdown",
      "source": [
        "By using try & except statements could prevent a program from crashing."
      ],
      "metadata": {
        "id": "gEIDwvExXlF_"
      }
    },
    {
      "cell_type": "code",
      "source": [
        "def collatz(number):\n",
        "  if number % 2 == 0:\n",
        "    result = number // 2\n",
        "  else:\n",
        "    result = 3 * number + 1\n",
        "  print(result)\n",
        "  return result\n",
        "n = int(input(\"enter a number: \"))\n",
        "while n != 1:\n",
        "  n = collatz(n)"
      ],
      "metadata": {
        "colab": {
          "base_uri": "https://localhost:8080/"
        },
        "id": "rCqRuizTZPs-",
        "outputId": "d03b5123-5b07-420b-ad84-a3102a57f93e"
      },
      "execution_count": 11,
      "outputs": [
        {
          "output_type": "stream",
          "name": "stdout",
          "text": [
            "enter a number: 45\n",
            "136\n",
            "68\n",
            "34\n",
            "17\n",
            "52\n",
            "26\n",
            "13\n",
            "40\n",
            "20\n",
            "10\n",
            "5\n",
            "16\n",
            "8\n",
            "4\n",
            "2\n",
            "1\n"
          ]
        }
      ]
    }
  ]
}